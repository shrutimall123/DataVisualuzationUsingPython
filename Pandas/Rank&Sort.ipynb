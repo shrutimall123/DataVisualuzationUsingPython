{
 "cells": [
  {
   "cell_type": "code",
   "execution_count": 1,
   "id": "4c093894-f144-493f-a053-055e889e00fb",
   "metadata": {},
   "outputs": [],
   "source": [
    "import numpy as np\n",
    "import pandas as pd\n",
    "from pandas import Series, DataFrame"
   ]
  },
  {
   "cell_type": "code",
   "execution_count": 3,
   "id": "31f37e47-0c72-4cc6-8468-471f7b90a9dc",
   "metadata": {},
   "outputs": [],
   "source": [
    "ser1 = Series([0,1,2,3,4],index=['A','B','C','D','E'])"
   ]
  },
  {
   "cell_type": "code",
   "execution_count": 5,
   "id": "02adb923-eb6c-4ad6-8641-3bb353cf670f",
   "metadata": {},
   "outputs": [
    {
     "data": {
      "text/plain": [
       "A    0\n",
       "B    1\n",
       "C    2\n",
       "D    3\n",
       "E    4\n",
       "dtype: int64"
      ]
     },
     "execution_count": 5,
     "metadata": {},
     "output_type": "execute_result"
    }
   ],
   "source": [
    "ser1.sort_index()"
   ]
  },
  {
   "cell_type": "code",
   "execution_count": 9,
   "id": "4175fbd8-0ca7-47f6-91d4-cfe7b99bba27",
   "metadata": {},
   "outputs": [],
   "source": [
    "from numpy.random import randn"
   ]
  },
  {
   "cell_type": "code",
   "execution_count": 10,
   "id": "8eb81a2a-2051-4010-8df3-0f2e12790fc0",
   "metadata": {},
   "outputs": [],
   "source": [
    "series2= Series(randn(9))"
   ]
  },
  {
   "cell_type": "code",
   "execution_count": 11,
   "id": "0eca299e-58c6-4361-a7cb-16478bd93067",
   "metadata": {},
   "outputs": [
    {
     "data": {
      "text/plain": [
       "0   -0.191255\n",
       "1    0.247980\n",
       "2    1.127663\n",
       "3    1.172729\n",
       "4   -0.532129\n",
       "5   -1.275002\n",
       "6   -0.664041\n",
       "7    0.194030\n",
       "8    1.684362\n",
       "dtype: float64"
      ]
     },
     "execution_count": 11,
     "metadata": {},
     "output_type": "execute_result"
    }
   ],
   "source": [
    "series2"
   ]
  },
  {
   "cell_type": "code",
   "execution_count": 15,
   "id": "666d622b-2292-44bb-bb60-3d78afb21dda",
   "metadata": {},
   "outputs": [],
   "source": [
    "series=series2.sort_values()"
   ]
  },
  {
   "cell_type": "code",
   "execution_count": 16,
   "id": "f4cd40af-f52f-4834-9d67-ddf63b562f2f",
   "metadata": {},
   "outputs": [
    {
     "data": {
      "text/plain": [
       "5   -1.275002\n",
       "6   -0.664041\n",
       "4   -0.532129\n",
       "0   -0.191255\n",
       "7    0.194030\n",
       "1    0.247980\n",
       "2    1.127663\n",
       "3    1.172729\n",
       "8    1.684362\n",
       "dtype: float64"
      ]
     },
     "execution_count": 16,
     "metadata": {},
     "output_type": "execute_result"
    }
   ],
   "source": [
    "series"
   ]
  },
  {
   "cell_type": "code",
   "execution_count": 17,
   "id": "01a83203-d5d3-4c52-82a6-81fe7ffab8c7",
   "metadata": {},
   "outputs": [
    {
     "data": {
      "text/plain": [
       "5    1.0\n",
       "6    2.0\n",
       "4    3.0\n",
       "0    4.0\n",
       "7    5.0\n",
       "1    6.0\n",
       "2    7.0\n",
       "3    8.0\n",
       "8    9.0\n",
       "dtype: float64"
      ]
     },
     "execution_count": 17,
     "metadata": {},
     "output_type": "execute_result"
    }
   ],
   "source": [
    "series.rank()"
   ]
  },
  {
   "cell_type": "code",
   "execution_count": null,
   "id": "b3d1846d-16a4-459d-a504-a91019ef9acc",
   "metadata": {},
   "outputs": [],
   "source": []
  }
 ],
 "metadata": {
  "kernelspec": {
   "display_name": "Python 3 (ipykernel)",
   "language": "python",
   "name": "python3"
  },
  "language_info": {
   "codemirror_mode": {
    "name": "ipython",
    "version": 3
   },
   "file_extension": ".py",
   "mimetype": "text/x-python",
   "name": "python",
   "nbconvert_exporter": "python",
   "pygments_lexer": "ipython3",
   "version": "3.12.1"
  }
 },
 "nbformat": 4,
 "nbformat_minor": 5
}
