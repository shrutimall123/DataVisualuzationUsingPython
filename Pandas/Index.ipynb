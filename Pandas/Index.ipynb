{
 "cells": [
  {
   "cell_type": "code",
   "execution_count": 1,
   "id": "b9a2d643-9569-4d78-af53-858cb7ac2cf3",
   "metadata": {},
   "outputs": [],
   "source": [
    "import numpy as np\n",
    "import pandas as pd\n",
    "from pandas import Series, DataFrame"
   ]
  },
  {
   "cell_type": "code",
   "execution_count": 3,
   "id": "2bda2d54-45ef-43d2-8886-108087bca62f",
   "metadata": {},
   "outputs": [],
   "source": [
    "import matplotlib.pyplot as plt"
   ]
  },
  {
   "cell_type": "code",
   "execution_count": 4,
   "id": "297a3452-47dd-475a-bf7d-ae44f17cadb0",
   "metadata": {},
   "outputs": [],
   "source": [
    "my_series= Series([10000,20000,30000,40000], index=[0,1,2,3])"
   ]
  },
  {
   "cell_type": "code",
   "execution_count": 5,
   "id": "e1486b86-1625-4422-8b4f-b26e04bf0be9",
   "metadata": {},
   "outputs": [
    {
     "data": {
      "text/plain": [
       "0    10000\n",
       "1    20000\n",
       "2    30000\n",
       "3    40000\n",
       "dtype: int64"
      ]
     },
     "execution_count": 5,
     "metadata": {},
     "output_type": "execute_result"
    }
   ],
   "source": [
    "my_series"
   ]
  },
  {
   "cell_type": "code",
   "execution_count": 6,
   "id": "b45dcb8b-e77d-4425-9904-7bb65ef3ffca",
   "metadata": {},
   "outputs": [],
   "source": [
    "series=pd.DataFrame(my_series)"
   ]
  },
  {
   "cell_type": "code",
   "execution_count": 7,
   "id": "bab7d88d-5960-4a16-a05f-4b4e086e8a49",
   "metadata": {},
   "outputs": [
    {
     "data": {
      "text/html": [
       "<div>\n",
       "<style scoped>\n",
       "    .dataframe tbody tr th:only-of-type {\n",
       "        vertical-align: middle;\n",
       "    }\n",
       "\n",
       "    .dataframe tbody tr th {\n",
       "        vertical-align: top;\n",
       "    }\n",
       "\n",
       "    .dataframe thead th {\n",
       "        text-align: right;\n",
       "    }\n",
       "</style>\n",
       "<table border=\"1\" class=\"dataframe\">\n",
       "  <thead>\n",
       "    <tr style=\"text-align: right;\">\n",
       "      <th></th>\n",
       "      <th>0</th>\n",
       "    </tr>\n",
       "  </thead>\n",
       "  <tbody>\n",
       "    <tr>\n",
       "      <th>0</th>\n",
       "      <td>10000</td>\n",
       "    </tr>\n",
       "    <tr>\n",
       "      <th>1</th>\n",
       "      <td>20000</td>\n",
       "    </tr>\n",
       "    <tr>\n",
       "      <th>2</th>\n",
       "      <td>30000</td>\n",
       "    </tr>\n",
       "    <tr>\n",
       "      <th>3</th>\n",
       "      <td>40000</td>\n",
       "    </tr>\n",
       "  </tbody>\n",
       "</table>\n",
       "</div>"
      ],
      "text/plain": [
       "       0\n",
       "0  10000\n",
       "1  20000\n",
       "2  30000\n",
       "3  40000"
      ]
     },
     "execution_count": 7,
     "metadata": {},
     "output_type": "execute_result"
    }
   ],
   "source": [
    "series"
   ]
  },
  {
   "cell_type": "code",
   "execution_count": 10,
   "id": "71f5313d-acea-41a9-94a2-c73eebf4ea89",
   "metadata": {},
   "outputs": [],
   "source": [
    "my_index=my_series.index"
   ]
  },
  {
   "cell_type": "code",
   "execution_count": 11,
   "id": "4ad1195b-7616-4535-8acb-7fd0d5110f4b",
   "metadata": {},
   "outputs": [
    {
     "data": {
      "text/plain": [
       "Index([0, 1, 2, 3], dtype='int64')"
      ]
     },
     "execution_count": 11,
     "metadata": {},
     "output_type": "execute_result"
    }
   ],
   "source": [
    "my_index"
   ]
  },
  {
   "cell_type": "code",
   "execution_count": 12,
   "id": "2c062a79-3c6b-4470-b2fa-19bec35a1ab0",
   "metadata": {},
   "outputs": [],
   "source": [
    "my_series2 = Series([10000,20000,30000,40000], index=['A','B','C','D'])"
   ]
  },
  {
   "cell_type": "code",
   "execution_count": 13,
   "id": "378fd189-438f-4d11-861d-89af56ed65bd",
   "metadata": {},
   "outputs": [],
   "source": [
    "my_index2 = my_series2.index"
   ]
  },
  {
   "cell_type": "code",
   "execution_count": 14,
   "id": "abff0d7b-eedf-4a67-b398-8387474b1f21",
   "metadata": {},
   "outputs": [
    {
     "data": {
      "text/plain": [
       "Index(['A', 'B', 'C', 'D'], dtype='object')"
      ]
     },
     "execution_count": 14,
     "metadata": {},
     "output_type": "execute_result"
    }
   ],
   "source": [
    "my_index2"
   ]
  },
  {
   "cell_type": "code",
   "execution_count": 15,
   "id": "6566ec81-205c-4712-9e4e-8f767968366e",
   "metadata": {},
   "outputs": [
    {
     "data": {
      "text/plain": [
       "'C'"
      ]
     },
     "execution_count": 15,
     "metadata": {},
     "output_type": "execute_result"
    }
   ],
   "source": [
    "my_index2[2]"
   ]
  },
  {
   "cell_type": "code",
   "execution_count": 17,
   "id": "1dc32f07-164a-4723-b9af-235c7ce2a34a",
   "metadata": {},
   "outputs": [
    {
     "data": {
      "text/plain": [
       "Index(['C', 'D'], dtype='object')"
      ]
     },
     "execution_count": 17,
     "metadata": {},
     "output_type": "execute_result"
    }
   ],
   "source": [
    "my_index2[2: ]"
   ]
  },
  {
   "cell_type": "code",
   "execution_count": null,
   "id": "fe926a83-2535-4cac-898e-dc304892150b",
   "metadata": {},
   "outputs": [],
   "source": []
  }
 ],
 "metadata": {
  "kernelspec": {
   "display_name": "Python 3 (ipykernel)",
   "language": "python",
   "name": "python3"
  },
  "language_info": {
   "codemirror_mode": {
    "name": "ipython",
    "version": 3
   },
   "file_extension": ".py",
   "mimetype": "text/x-python",
   "name": "python",
   "nbconvert_exporter": "python",
   "pygments_lexer": "ipython3",
   "version": "3.12.1"
  }
 },
 "nbformat": 4,
 "nbformat_minor": 5
}
