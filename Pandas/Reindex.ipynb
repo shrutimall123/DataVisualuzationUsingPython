{
 "cells": [
  {
   "cell_type": "code",
   "execution_count": 1,
   "id": "69a1aef8-ec28-44bb-ae22-fb3f6d6bf235",
   "metadata": {},
   "outputs": [],
   "source": [
    "import numpy as np\n",
    "import pandas as pd\n",
    "from pandas import Series, DataFrame"
   ]
  },
  {
   "cell_type": "code",
   "execution_count": 2,
   "id": "c055420d-f9ff-4a99-99ce-62516a055f34",
   "metadata": {},
   "outputs": [],
   "source": [
    "from numpy.random import randn"
   ]
  },
  {
   "cell_type": "code",
   "execution_count": 3,
   "id": "269c7bc4-318b-44d9-aed6-e6e6c7f9a26f",
   "metadata": {},
   "outputs": [],
   "source": [
    "ser1= Series([10000,20000,30000,40000], index=['A','B','C','D'])"
   ]
  },
  {
   "cell_type": "code",
   "execution_count": 4,
   "id": "1b4af434-f031-4f97-b09a-0c68a9b7c0b0",
   "metadata": {},
   "outputs": [
    {
     "data": {
      "text/plain": [
       "A    10000\n",
       "B    20000\n",
       "C    30000\n",
       "D    40000\n",
       "dtype: int64"
      ]
     },
     "execution_count": 4,
     "metadata": {},
     "output_type": "execute_result"
    }
   ],
   "source": [
    "ser1"
   ]
  },
  {
   "cell_type": "code",
   "execution_count": 11,
   "id": "c6ad4913-b3b9-439b-850c-46fea2b81599",
   "metadata": {},
   "outputs": [],
   "source": [
    "ser2 = ser1.reindex(['A','B','C','D','E','F'])"
   ]
  },
  {
   "cell_type": "code",
   "execution_count": 12,
   "id": "da0c4081-740d-43df-ba5a-10922d44d523",
   "metadata": {},
   "outputs": [
    {
     "name": "stdout",
     "output_type": "stream",
     "text": [
      "A    10000.0\n",
      "B    20000.0\n",
      "C    30000.0\n",
      "D    40000.0\n",
      "E        NaN\n",
      "F        NaN\n",
      "dtype: float64\n"
     ]
    }
   ],
   "source": [
    "print(ser2)"
   ]
  },
  {
   "cell_type": "code",
   "execution_count": 13,
   "id": "89a05f76-07ca-4b3a-9063-594b43bddd0a",
   "metadata": {},
   "outputs": [],
   "source": [
    "ser2['E']=50000"
   ]
  },
  {
   "cell_type": "code",
   "execution_count": 14,
   "id": "ccba3d71-a006-4f3f-a643-b5c1011ba83c",
   "metadata": {},
   "outputs": [
    {
     "data": {
      "text/plain": [
       "A    10000.0\n",
       "B    20000.0\n",
       "C    30000.0\n",
       "D    40000.0\n",
       "E    50000.0\n",
       "F        NaN\n",
       "dtype: float64"
      ]
     },
     "execution_count": 14,
     "metadata": {},
     "output_type": "execute_result"
    }
   ],
   "source": [
    "ser2"
   ]
  },
  {
   "cell_type": "code",
   "execution_count": 15,
   "id": "02578e66-62b9-4be4-90df-b34a47d75de9",
   "metadata": {},
   "outputs": [
    {
     "data": {
      "text/plain": [
       "A    10000.0\n",
       "B    20000.0\n",
       "C    30000.0\n",
       "D    40000.0\n",
       "E    50000.0\n",
       "F        NaN\n",
       "G    60000.0\n",
       "dtype: float64"
      ]
     },
     "execution_count": 15,
     "metadata": {},
     "output_type": "execute_result"
    }
   ],
   "source": [
    "ser2.reindex(['A','B','C','D','E','F', 'G'], fill_value = 60000)"
   ]
  },
  {
   "cell_type": "code",
   "execution_count": 16,
   "id": "f1472737-7c2c-42c0-915a-957937832579",
   "metadata": {},
   "outputs": [],
   "source": [
    "ser3= Series(['SF','LA','NYC'], index=[0,5,10])"
   ]
  },
  {
   "cell_type": "code",
   "execution_count": 17,
   "id": "da60e1b2-a8a9-4c33-bf2b-b4486edad568",
   "metadata": {},
   "outputs": [
    {
     "data": {
      "text/plain": [
       "0      SF\n",
       "5      LA\n",
       "10    NYC\n",
       "dtype: object"
      ]
     },
     "execution_count": 17,
     "metadata": {},
     "output_type": "execute_result"
    }
   ],
   "source": [
    "ser3"
   ]
  },
  {
   "cell_type": "code",
   "execution_count": 18,
   "id": "f8c9803b-749b-422d-9ffd-922d3561f900",
   "metadata": {},
   "outputs": [],
   "source": [
    "ranger= range(15)"
   ]
  },
  {
   "cell_type": "code",
   "execution_count": 19,
   "id": "71c73f4c-e286-4af4-8c77-559a0dc7bcb1",
   "metadata": {},
   "outputs": [
    {
     "data": {
      "text/plain": [
       "range(0, 15)"
      ]
     },
     "execution_count": 19,
     "metadata": {},
     "output_type": "execute_result"
    }
   ],
   "source": [
    "ranger"
   ]
  },
  {
   "cell_type": "code",
   "execution_count": 23,
   "id": "b230ef5a-ad23-4c36-b0a4-c4d79d92f964",
   "metadata": {},
   "outputs": [
    {
     "data": {
      "text/plain": [
       "0      SF\n",
       "1      SF\n",
       "2      SF\n",
       "3      SF\n",
       "4      SF\n",
       "5      LA\n",
       "6      LA\n",
       "7      LA\n",
       "8      LA\n",
       "9      LA\n",
       "10    NYC\n",
       "11    NYC\n",
       "12    NYC\n",
       "13    NYC\n",
       "14    NYC\n",
       "dtype: object"
      ]
     },
     "execution_count": 23,
     "metadata": {},
     "output_type": "execute_result"
    }
   ],
   "source": [
    "ser3.reindex(ranger, method='ffill')"
   ]
  },
  {
   "cell_type": "code",
   "execution_count": 29,
   "id": "eb7b67f5-04e8-4fac-ae9c-3dcfa0acde87",
   "metadata": {},
   "outputs": [],
   "source": [
    "dFrame=DataFrame(randn(25).reshape((5,5)),index=['A','B','C','D','E'],columns=['col1','col12','col3','col4','col5'])"
   ]
  },
  {
   "cell_type": "code",
   "execution_count": 30,
   "id": "a2a612f8-64d8-4491-ad95-443e534c6522",
   "metadata": {},
   "outputs": [
    {
     "data": {
      "text/html": [
       "<div>\n",
       "<style scoped>\n",
       "    .dataframe tbody tr th:only-of-type {\n",
       "        vertical-align: middle;\n",
       "    }\n",
       "\n",
       "    .dataframe tbody tr th {\n",
       "        vertical-align: top;\n",
       "    }\n",
       "\n",
       "    .dataframe thead th {\n",
       "        text-align: right;\n",
       "    }\n",
       "</style>\n",
       "<table border=\"1\" class=\"dataframe\">\n",
       "  <thead>\n",
       "    <tr style=\"text-align: right;\">\n",
       "      <th></th>\n",
       "      <th>col1</th>\n",
       "      <th>col12</th>\n",
       "      <th>col3</th>\n",
       "      <th>col4</th>\n",
       "      <th>col5</th>\n",
       "    </tr>\n",
       "  </thead>\n",
       "  <tbody>\n",
       "    <tr>\n",
       "      <th>A</th>\n",
       "      <td>-0.162828</td>\n",
       "      <td>-0.911477</td>\n",
       "      <td>-0.221606</td>\n",
       "      <td>0.549770</td>\n",
       "      <td>-0.132595</td>\n",
       "    </tr>\n",
       "    <tr>\n",
       "      <th>B</th>\n",
       "      <td>0.264094</td>\n",
       "      <td>-1.014760</td>\n",
       "      <td>0.490300</td>\n",
       "      <td>0.441907</td>\n",
       "      <td>1.345178</td>\n",
       "    </tr>\n",
       "    <tr>\n",
       "      <th>C</th>\n",
       "      <td>0.532762</td>\n",
       "      <td>-1.753010</td>\n",
       "      <td>0.179571</td>\n",
       "      <td>1.207979</td>\n",
       "      <td>0.584248</td>\n",
       "    </tr>\n",
       "    <tr>\n",
       "      <th>D</th>\n",
       "      <td>-0.863022</td>\n",
       "      <td>0.295792</td>\n",
       "      <td>-0.814510</td>\n",
       "      <td>-0.700575</td>\n",
       "      <td>-1.075122</td>\n",
       "    </tr>\n",
       "    <tr>\n",
       "      <th>E</th>\n",
       "      <td>0.117315</td>\n",
       "      <td>0.417561</td>\n",
       "      <td>-0.490897</td>\n",
       "      <td>-0.837545</td>\n",
       "      <td>0.416837</td>\n",
       "    </tr>\n",
       "  </tbody>\n",
       "</table>\n",
       "</div>"
      ],
      "text/plain": [
       "       col1     col12      col3      col4      col5\n",
       "A -0.162828 -0.911477 -0.221606  0.549770 -0.132595\n",
       "B  0.264094 -1.014760  0.490300  0.441907  1.345178\n",
       "C  0.532762 -1.753010  0.179571  1.207979  0.584248\n",
       "D -0.863022  0.295792 -0.814510 -0.700575 -1.075122\n",
       "E  0.117315  0.417561 -0.490897 -0.837545  0.416837"
      ]
     },
     "execution_count": 30,
     "metadata": {},
     "output_type": "execute_result"
    }
   ],
   "source": [
    "dFrame"
   ]
  },
  {
   "cell_type": "code",
   "execution_count": 31,
   "id": "79c112e2-6c5d-49a4-a5bf-12912e3c0863",
   "metadata": {},
   "outputs": [],
   "source": [
    "dFrame2= dFrame.reindex(['A','B','C','D','E','F'])"
   ]
  },
  {
   "cell_type": "code",
   "execution_count": 32,
   "id": "def9e4c8-4b3c-4eb4-9513-407a4290e672",
   "metadata": {},
   "outputs": [
    {
     "data": {
      "text/html": [
       "<div>\n",
       "<style scoped>\n",
       "    .dataframe tbody tr th:only-of-type {\n",
       "        vertical-align: middle;\n",
       "    }\n",
       "\n",
       "    .dataframe tbody tr th {\n",
       "        vertical-align: top;\n",
       "    }\n",
       "\n",
       "    .dataframe thead th {\n",
       "        text-align: right;\n",
       "    }\n",
       "</style>\n",
       "<table border=\"1\" class=\"dataframe\">\n",
       "  <thead>\n",
       "    <tr style=\"text-align: right;\">\n",
       "      <th></th>\n",
       "      <th>col1</th>\n",
       "      <th>col12</th>\n",
       "      <th>col3</th>\n",
       "      <th>col4</th>\n",
       "      <th>col5</th>\n",
       "    </tr>\n",
       "  </thead>\n",
       "  <tbody>\n",
       "    <tr>\n",
       "      <th>A</th>\n",
       "      <td>-0.162828</td>\n",
       "      <td>-0.911477</td>\n",
       "      <td>-0.221606</td>\n",
       "      <td>0.549770</td>\n",
       "      <td>-0.132595</td>\n",
       "    </tr>\n",
       "    <tr>\n",
       "      <th>B</th>\n",
       "      <td>0.264094</td>\n",
       "      <td>-1.014760</td>\n",
       "      <td>0.490300</td>\n",
       "      <td>0.441907</td>\n",
       "      <td>1.345178</td>\n",
       "    </tr>\n",
       "    <tr>\n",
       "      <th>C</th>\n",
       "      <td>0.532762</td>\n",
       "      <td>-1.753010</td>\n",
       "      <td>0.179571</td>\n",
       "      <td>1.207979</td>\n",
       "      <td>0.584248</td>\n",
       "    </tr>\n",
       "    <tr>\n",
       "      <th>D</th>\n",
       "      <td>-0.863022</td>\n",
       "      <td>0.295792</td>\n",
       "      <td>-0.814510</td>\n",
       "      <td>-0.700575</td>\n",
       "      <td>-1.075122</td>\n",
       "    </tr>\n",
       "    <tr>\n",
       "      <th>E</th>\n",
       "      <td>0.117315</td>\n",
       "      <td>0.417561</td>\n",
       "      <td>-0.490897</td>\n",
       "      <td>-0.837545</td>\n",
       "      <td>0.416837</td>\n",
       "    </tr>\n",
       "    <tr>\n",
       "      <th>F</th>\n",
       "      <td>NaN</td>\n",
       "      <td>NaN</td>\n",
       "      <td>NaN</td>\n",
       "      <td>NaN</td>\n",
       "      <td>NaN</td>\n",
       "    </tr>\n",
       "  </tbody>\n",
       "</table>\n",
       "</div>"
      ],
      "text/plain": [
       "       col1     col12      col3      col4      col5\n",
       "A -0.162828 -0.911477 -0.221606  0.549770 -0.132595\n",
       "B  0.264094 -1.014760  0.490300  0.441907  1.345178\n",
       "C  0.532762 -1.753010  0.179571  1.207979  0.584248\n",
       "D -0.863022  0.295792 -0.814510 -0.700575 -1.075122\n",
       "E  0.117315  0.417561 -0.490897 -0.837545  0.416837\n",
       "F       NaN       NaN       NaN       NaN       NaN"
      ]
     },
     "execution_count": 32,
     "metadata": {},
     "output_type": "execute_result"
    }
   ],
   "source": [
    "dFrame2"
   ]
  },
  {
   "cell_type": "code",
   "execution_count": 34,
   "id": "4bbe6f72-7322-4493-973a-85cec4fabb45",
   "metadata": {},
   "outputs": [
    {
     "data": {
      "text/html": [
       "<div>\n",
       "<style scoped>\n",
       "    .dataframe tbody tr th:only-of-type {\n",
       "        vertical-align: middle;\n",
       "    }\n",
       "\n",
       "    .dataframe tbody tr th {\n",
       "        vertical-align: top;\n",
       "    }\n",
       "\n",
       "    .dataframe thead th {\n",
       "        text-align: right;\n",
       "    }\n",
       "</style>\n",
       "<table border=\"1\" class=\"dataframe\">\n",
       "  <thead>\n",
       "    <tr style=\"text-align: right;\">\n",
       "      <th></th>\n",
       "      <th>col1</th>\n",
       "      <th>col12</th>\n",
       "      <th>col3</th>\n",
       "      <th>col4</th>\n",
       "      <th>col5</th>\n",
       "      <th>col6</th>\n",
       "    </tr>\n",
       "  </thead>\n",
       "  <tbody>\n",
       "    <tr>\n",
       "      <th>A</th>\n",
       "      <td>-0.162828</td>\n",
       "      <td>-0.911477</td>\n",
       "      <td>-0.221606</td>\n",
       "      <td>0.549770</td>\n",
       "      <td>-0.132595</td>\n",
       "      <td>NaN</td>\n",
       "    </tr>\n",
       "    <tr>\n",
       "      <th>B</th>\n",
       "      <td>0.264094</td>\n",
       "      <td>-1.014760</td>\n",
       "      <td>0.490300</td>\n",
       "      <td>0.441907</td>\n",
       "      <td>1.345178</td>\n",
       "      <td>NaN</td>\n",
       "    </tr>\n",
       "    <tr>\n",
       "      <th>C</th>\n",
       "      <td>0.532762</td>\n",
       "      <td>-1.753010</td>\n",
       "      <td>0.179571</td>\n",
       "      <td>1.207979</td>\n",
       "      <td>0.584248</td>\n",
       "      <td>NaN</td>\n",
       "    </tr>\n",
       "    <tr>\n",
       "      <th>D</th>\n",
       "      <td>-0.863022</td>\n",
       "      <td>0.295792</td>\n",
       "      <td>-0.814510</td>\n",
       "      <td>-0.700575</td>\n",
       "      <td>-1.075122</td>\n",
       "      <td>NaN</td>\n",
       "    </tr>\n",
       "    <tr>\n",
       "      <th>E</th>\n",
       "      <td>0.117315</td>\n",
       "      <td>0.417561</td>\n",
       "      <td>-0.490897</td>\n",
       "      <td>-0.837545</td>\n",
       "      <td>0.416837</td>\n",
       "      <td>NaN</td>\n",
       "    </tr>\n",
       "    <tr>\n",
       "      <th>F</th>\n",
       "      <td>NaN</td>\n",
       "      <td>NaN</td>\n",
       "      <td>NaN</td>\n",
       "      <td>NaN</td>\n",
       "      <td>NaN</td>\n",
       "      <td>NaN</td>\n",
       "    </tr>\n",
       "  </tbody>\n",
       "</table>\n",
       "</div>"
      ],
      "text/plain": [
       "       col1     col12      col3      col4      col5  col6\n",
       "A -0.162828 -0.911477 -0.221606  0.549770 -0.132595   NaN\n",
       "B  0.264094 -1.014760  0.490300  0.441907  1.345178   NaN\n",
       "C  0.532762 -1.753010  0.179571  1.207979  0.584248   NaN\n",
       "D -0.863022  0.295792 -0.814510 -0.700575 -1.075122   NaN\n",
       "E  0.117315  0.417561 -0.490897 -0.837545  0.416837   NaN\n",
       "F       NaN       NaN       NaN       NaN       NaN   NaN"
      ]
     },
     "execution_count": 34,
     "metadata": {},
     "output_type": "execute_result"
    }
   ],
   "source": [
    "new_columns = ['col1','col12','col3','col4','col5','col6']\n",
    "dFrame2.reindex(columns=new_columns)"
   ]
  },
  {
   "cell_type": "code",
   "execution_count": null,
   "id": "a199d9bb-c508-4743-8e4b-a5a95a03458a",
   "metadata": {},
   "outputs": [],
   "source": []
  }
 ],
 "metadata": {
  "kernelspec": {
   "display_name": "Python 3 (ipykernel)",
   "language": "python",
   "name": "python3"
  },
  "language_info": {
   "codemirror_mode": {
    "name": "ipython",
    "version": 3
   },
   "file_extension": ".py",
   "mimetype": "text/x-python",
   "name": "python",
   "nbconvert_exporter": "python",
   "pygments_lexer": "ipython3",
   "version": "3.12.1"
  }
 },
 "nbformat": 4,
 "nbformat_minor": 5
}
