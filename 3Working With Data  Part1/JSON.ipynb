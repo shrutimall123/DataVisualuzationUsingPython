{
 "cells": [
  {
   "cell_type": "code",
   "execution_count": 5,
   "id": "6f47e78d-797d-40af-a4c9-06cceb742afe",
   "metadata": {},
   "outputs": [],
   "source": [
    "import numpy as np\n",
    "import pandas as pd\n",
    "from pandas import Series, DataFrame"
   ]
  },
  {
   "cell_type": "code",
   "execution_count": 2,
   "id": "7a2ecdac-8f14-424a-aa08-c38dc3bd705c",
   "metadata": {},
   "outputs": [],
   "source": [
    "json={\n",
    "    \"name\": \"John Doe\",\n",
    "    \"age\": 30,\n",
    "    \"city\": \"New York\",\n",
    "    \"email\": \"john.doe@example.com\",\n",
    "    \"interests\": [\"reading\", \"hiking\", \"music\"],\n",
    "    \"education\": {\n",
    "        \"degree\": \"Bachelor of Science\",\n",
    "        \"major\": \"Computer Science\",\n",
    "        \"year\": 2015\n",
    "    }\n",
    "}"
   ]
  },
  {
   "cell_type": "code",
   "execution_count": 3,
   "id": "c11acd25-73d3-4b29-92cf-50bfa3152b55",
   "metadata": {},
   "outputs": [
    {
     "data": {
      "text/plain": [
       "{'name': 'John Doe',\n",
       " 'age': 30,\n",
       " 'city': 'New York',\n",
       " 'email': 'john.doe@example.com',\n",
       " 'interests': ['reading', 'hiking', 'music'],\n",
       " 'education': {'degree': 'Bachelor of Science',\n",
       "  'major': 'Computer Science',\n",
       "  'year': 2015}}"
      ]
     },
     "execution_count": 3,
     "metadata": {},
     "output_type": "execute_result"
    }
   ],
   "source": [
    "json"
   ]
  },
  {
   "cell_type": "code",
   "execution_count": 9,
   "id": "4f5af70f-a5a5-47e2-930d-4c49a840138b",
   "metadata": {},
   "outputs": [],
   "source": [
    "json2 ={\n",
    "    \"Name\": [\"Alice\", \"Bob\", \"Charlie\", \"David\", \"Emily\"],\n",
    "    \"Age\": [25, 30, 35, 40, 27],\n",
    "    \"City\": [\"New York\", \"Los Angeles\", \"Chicago\", \"Houston\", \"Boston\"],\n",
    "    \"Email\": [\"alice@example.com\", \"bob@example.com\", \"charlie@example.com\", \"david@example.com\", \"emily@example.com\"],\n",
    "    \"Salary\": [50000, 60000, 70000, 80000, 55000]}"
   ]
  },
  {
   "cell_type": "code",
   "execution_count": 10,
   "id": "f1ad22a8-fe01-4f16-a7ee-491742265779",
   "metadata": {},
   "outputs": [
    {
     "data": {
      "text/plain": [
       "{'Name': ['Alice', 'Bob', 'Charlie', 'David', 'Emily'],\n",
       " 'Age': [25, 30, 35, 40, 27],\n",
       " 'City': ['New York', 'Los Angeles', 'Chicago', 'Houston', 'Boston'],\n",
       " 'Email': ['alice@example.com',\n",
       "  'bob@example.com',\n",
       "  'charlie@example.com',\n",
       "  'david@example.com',\n",
       "  'emily@example.com'],\n",
       " 'Salary': [50000, 60000, 70000, 80000, 55000]}"
      ]
     },
     "execution_count": 10,
     "metadata": {},
     "output_type": "execute_result"
    }
   ],
   "source": [
    "json2"
   ]
  },
  {
   "cell_type": "code",
   "execution_count": 11,
   "id": "848cdaad-abbd-40fc-9736-f5b4f67a24bf",
   "metadata": {},
   "outputs": [],
   "source": [
    "df = DataFrame(json2)"
   ]
  },
  {
   "cell_type": "code",
   "execution_count": 12,
   "id": "09f2ad1e-7212-4833-8b7b-7a4eb8edd42e",
   "metadata": {},
   "outputs": [
    {
     "data": {
      "text/html": [
       "<div>\n",
       "<style scoped>\n",
       "    .dataframe tbody tr th:only-of-type {\n",
       "        vertical-align: middle;\n",
       "    }\n",
       "\n",
       "    .dataframe tbody tr th {\n",
       "        vertical-align: top;\n",
       "    }\n",
       "\n",
       "    .dataframe thead th {\n",
       "        text-align: right;\n",
       "    }\n",
       "</style>\n",
       "<table border=\"1\" class=\"dataframe\">\n",
       "  <thead>\n",
       "    <tr style=\"text-align: right;\">\n",
       "      <th></th>\n",
       "      <th>Name</th>\n",
       "      <th>Age</th>\n",
       "      <th>City</th>\n",
       "      <th>Email</th>\n",
       "      <th>Salary</th>\n",
       "    </tr>\n",
       "  </thead>\n",
       "  <tbody>\n",
       "    <tr>\n",
       "      <th>0</th>\n",
       "      <td>Alice</td>\n",
       "      <td>25</td>\n",
       "      <td>New York</td>\n",
       "      <td>alice@example.com</td>\n",
       "      <td>50000</td>\n",
       "    </tr>\n",
       "    <tr>\n",
       "      <th>1</th>\n",
       "      <td>Bob</td>\n",
       "      <td>30</td>\n",
       "      <td>Los Angeles</td>\n",
       "      <td>bob@example.com</td>\n",
       "      <td>60000</td>\n",
       "    </tr>\n",
       "    <tr>\n",
       "      <th>2</th>\n",
       "      <td>Charlie</td>\n",
       "      <td>35</td>\n",
       "      <td>Chicago</td>\n",
       "      <td>charlie@example.com</td>\n",
       "      <td>70000</td>\n",
       "    </tr>\n",
       "    <tr>\n",
       "      <th>3</th>\n",
       "      <td>David</td>\n",
       "      <td>40</td>\n",
       "      <td>Houston</td>\n",
       "      <td>david@example.com</td>\n",
       "      <td>80000</td>\n",
       "    </tr>\n",
       "    <tr>\n",
       "      <th>4</th>\n",
       "      <td>Emily</td>\n",
       "      <td>27</td>\n",
       "      <td>Boston</td>\n",
       "      <td>emily@example.com</td>\n",
       "      <td>55000</td>\n",
       "    </tr>\n",
       "  </tbody>\n",
       "</table>\n",
       "</div>"
      ],
      "text/plain": [
       "      Name  Age         City                Email  Salary\n",
       "0    Alice   25     New York    alice@example.com   50000\n",
       "1      Bob   30  Los Angeles      bob@example.com   60000\n",
       "2  Charlie   35      Chicago  charlie@example.com   70000\n",
       "3    David   40      Houston    david@example.com   80000\n",
       "4    Emily   27       Boston    emily@example.com   55000"
      ]
     },
     "execution_count": 12,
     "metadata": {},
     "output_type": "execute_result"
    }
   ],
   "source": [
    "df"
   ]
  },
  {
   "cell_type": "code",
   "execution_count": 13,
   "id": "77ad1b3c-e4c8-4f07-9e8f-f53b9f90051a",
   "metadata": {},
   "outputs": [],
   "source": [
    "import json"
   ]
  },
  {
   "cell_type": "code",
   "execution_count": 16,
   "id": "ac281219-e763-40e7-860b-e3ce64ccf368",
   "metadata": {},
   "outputs": [],
   "source": [
    "json_string = '''\n",
    "{\n",
    "    \"name\": \"John Doe\",\n",
    "    \"age\": 30,\n",
    "    \"city\": \"New York\",\n",
    "    \"email\": \"john.doe@example.com\",\n",
    "    \"interests\": [\"reading\", \"hiking\", \"music\"],\n",
    "    \"education\": {\n",
    "        \"degree\": \"Bachelor of Science\",\n",
    "        \"major\": \"Computer Science\",\n",
    "        \"year\": 2015\n",
    "    }\n",
    "}\n",
    "'''"
   ]
  },
  {
   "cell_type": "code",
   "execution_count": 17,
   "id": "db836f56-3017-4a32-ad87-73d9f11157cf",
   "metadata": {},
   "outputs": [],
   "source": [
    "data = json.loads(json_string)"
   ]
  },
  {
   "cell_type": "code",
   "execution_count": 18,
   "id": "b5b62a80-382c-43c4-8ee2-c90f400aa669",
   "metadata": {},
   "outputs": [
    {
     "data": {
      "text/plain": [
       "{'name': 'John Doe',\n",
       " 'age': 30,\n",
       " 'city': 'New York',\n",
       " 'email': 'john.doe@example.com',\n",
       " 'interests': ['reading', 'hiking', 'music'],\n",
       " 'education': {'degree': 'Bachelor of Science',\n",
       "  'major': 'Computer Science',\n",
       "  'year': 2015}}"
      ]
     },
     "execution_count": 18,
     "metadata": {},
     "output_type": "execute_result"
    }
   ],
   "source": [
    "data"
   ]
  },
  {
   "cell_type": "code",
   "execution_count": 20,
   "id": "c479294d-ee34-4718-8360-02e48602eab0",
   "metadata": {},
   "outputs": [
    {
     "data": {
      "text/plain": [
       "'{\"name\": \"John Doe\", \"age\": 30, \"city\": \"New York\", \"email\": \"john.doe@example.com\", \"interests\": [\"reading\", \"hiking\", \"music\"], \"education\": {\"degree\": \"Bachelor of Science\", \"major\": \"Computer Science\", \"year\": 2015}}'"
      ]
     },
     "execution_count": 20,
     "metadata": {},
     "output_type": "execute_result"
    }
   ],
   "source": [
    "json.dumps(data\n",
    "          )"
   ]
  },
  {
   "cell_type": "code",
   "execution_count": 27,
   "id": "4548bfc9-8f12-49ad-a03c-c5874ee27e89",
   "metadata": {},
   "outputs": [],
   "source": [
    "dframe = DataFrame(data['interests'])"
   ]
  },
  {
   "cell_type": "code",
   "execution_count": 36,
   "id": "456aa723-c96a-4423-a13d-051fe6e3e027",
   "metadata": {},
   "outputs": [
    {
     "data": {
      "text/html": [
       "<div>\n",
       "<style scoped>\n",
       "    .dataframe tbody tr th:only-of-type {\n",
       "        vertical-align: middle;\n",
       "    }\n",
       "\n",
       "    .dataframe tbody tr th {\n",
       "        vertical-align: top;\n",
       "    }\n",
       "\n",
       "    .dataframe thead th {\n",
       "        text-align: right;\n",
       "    }\n",
       "</style>\n",
       "<table border=\"1\" class=\"dataframe\">\n",
       "  <thead>\n",
       "    <tr style=\"text-align: right;\">\n",
       "      <th></th>\n",
       "      <th>0</th>\n",
       "    </tr>\n",
       "  </thead>\n",
       "  <tbody>\n",
       "    <tr>\n",
       "      <th>0</th>\n",
       "      <td>reading</td>\n",
       "    </tr>\n",
       "    <tr>\n",
       "      <th>1</th>\n",
       "      <td>hiking</td>\n",
       "    </tr>\n",
       "    <tr>\n",
       "      <th>2</th>\n",
       "      <td>music</td>\n",
       "    </tr>\n",
       "  </tbody>\n",
       "</table>\n",
       "</div>"
      ],
      "text/plain": [
       "         0\n",
       "0  reading\n",
       "1   hiking\n",
       "2    music"
      ]
     },
     "execution_count": 36,
     "metadata": {},
     "output_type": "execute_result"
    }
   ],
   "source": [
    "dframe"
   ]
  },
  {
   "cell_type": "code",
   "execution_count": 28,
   "id": "d06ac693-c3b8-49f7-9fee-3a8959f23810",
   "metadata": {},
   "outputs": [
    {
     "name": "stdout",
     "output_type": "stream",
     "text": [
      "Option 1:\n",
      "       name  age      city                 email                 interests  \\\n",
      "0  John Doe   30  New York  john.doe@example.com  [reading, hiking, music]   \n",
      "\n",
      "                                           education  \n",
      "0  {'degree': 'Bachelor of Science', 'major': 'Co...  \n",
      "\n",
      "Option 2:\n",
      "         Key                                              Value\n",
      "0       name                                           John Doe\n",
      "1        age                                                 30\n",
      "2       city                                           New York\n",
      "3      email                               john.doe@example.com\n",
      "4  interests                           [reading, hiking, music]\n",
      "5  education  {'degree': 'Bachelor of Science', 'major': 'Co...\n"
     ]
    }
   ],
   "source": [
    "data = json.loads(json_string)\n",
    "\n",
    "# Option 1: Single row DataFrame\n",
    "dframe1 = pd.DataFrame([data])\n",
    "print(\"Option 1:\")\n",
    "print(dframe1)\n",
    "\n",
    "# Option 2: Key-value pairs as rows\n",
    "dframe2 = pd.DataFrame(list(data.items()), columns=['Key', 'Value'])\n",
    "print(\"\\nOption 2:\")\n",
    "print(dframe2)"
   ]
  },
  {
   "cell_type": "code",
   "execution_count": null,
   "id": "503b1126-3613-41f0-a9a5-ddb8f067ab26",
   "metadata": {},
   "outputs": [],
   "source": []
  }
 ],
 "metadata": {
  "kernelspec": {
   "display_name": "Python 3 (ipykernel)",
   "language": "python",
   "name": "python3"
  },
  "language_info": {
   "codemirror_mode": {
    "name": "ipython",
    "version": 3
   },
   "file_extension": ".py",
   "mimetype": "text/x-python",
   "name": "python",
   "nbconvert_exporter": "python",
   "pygments_lexer": "ipython3",
   "version": "3.12.1"
  }
 },
 "nbformat": 4,
 "nbformat_minor": 5
}
